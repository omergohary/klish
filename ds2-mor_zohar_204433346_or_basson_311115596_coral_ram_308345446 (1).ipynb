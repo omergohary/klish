{
 "cells": [
  {
   "cell_type": "markdown",
   "metadata": {},
   "source": [
    "# תרגיל 2 DS - מניות"
   ]
  },
  {
   "cell_type": "code",
   "execution_count": 2,
   "metadata": {
    "collapsed": true
   },
   "outputs": [],
   "source": [
    "#Let's go ahead and start with some imports\n",
    "import pandas as pd\n",
    "from pandas import Series,DataFrame\n",
    "import numpy as np\n",
    "\n",
    "# For Visualization\n",
    "import matplotlib.pyplot as plt\n",
    "import seaborn as sns\n",
    "sns.set_style('whitegrid')\n",
    "%matplotlib inline\n",
    "\n",
    "# For reading stock data from yahoo\n",
    "from pandas_datareader import data, wb\n",
    "\n",
    "# For time stamps\n",
    "from datetime import datetime\n",
    "\n",
    "# For division\n",
    "from __future__ import division\n",
    "\n",
    "from yahoo_finance import Share\n",
    "from yahoo_finance import Currency\n",
    "\n",
    "import time\n",
    "import sys"
   ]
  },
  {
   "cell_type": "code",
   "execution_count": 3,
   "metadata": {},
   "outputs": [
    {
     "name": "stdout",
     "output_type": "stream",
     "text": [
      "read stock - AAPL\n",
      "read stock - GOOG\n",
      "read stock - MSFT\n",
      "read stock - CVX\n",
      "read stock - PTR\n",
      "read stock - JNJ\n",
      "read stock - PFE\n",
      "read stock - NVS\n",
      "read stock - MRK\n",
      "Finished reading all stocks.\n"
     ]
    }
   ],
   "source": [
    "# List of stock symbols to analyse\n",
    "tech_list = ['AAPL', 'GOOG', 'MSFT', 'CVX', 'PTR', 'JNJ', 'PFE', 'NVS', 'MRK']\n",
    "tech_dfs = {}\n",
    "end = datetime.now()\n",
    "start = datetime(end.year-1, end.month, end.day)\n",
    "\n",
    "#Try to get the stock in a loop incase there is RemoteDataError \n",
    "for stock in tech_list:\n",
    "    tries = 10\n",
    "    while tries > 0:\n",
    "        try:\n",
    "            tech_dfs[stock] = data.DataReader(stock, 'yahoo', start, end)\n",
    "            print('read stock - ' + stock)\n",
    "            break\n",
    "        except:\n",
    "            time.sleep(1)\n",
    "            tries -= 1\n",
    "    if not stock in tech_dfs.keys() or tech_dfs[stock] is None:\n",
    "        print(\"Something is wrong, Could not get all the stocks data\")\n",
    "        sys.exit(1)\n",
    "print('Finished reading all stocks.')\n",
    "#print(tech_dfs)\n",
    "\n"
   ]
  },
  {
   "cell_type": "code",
   "execution_count": 4,
   "metadata": {},
   "outputs": [
    {
     "name": "stdout",
     "output_type": "stream",
     "text": [
      "[[0.070323375416149636, 0.30976769218036559, 0.47323345305028375, 0.47192361723345932], [0.061572846869885067, 0.26237745011980151, 0.35206399095857099, 0.3464072894989787], [0.074876582885014864, 0.31549075329850584, 0.39212602930164331, 0.38119555403972916], [0.016226863688155735, 0.059323054499764716, 0.088589137014670971, 0.091023140142487913], [-0.034708437054032371, -0.11744549840531626, -0.069564315997644788, -0.058525647435897388], [0.043714343777983888, 0.18260937499559571, 0.2053386000287043, 0.20425212820512839], [0.021911464425191207, 0.086878108292741674, 0.092381531193761246, 0.091172067027535109], [0.030490273174298421, 0.12543278017344917, 0.15516066094333714, 0.15853985416389382], [-0.030717236164155115, -0.12240683236840288, -0.05518224937312699, -0.057972218127228303]]\n"
     ]
    }
   ],
   "source": [
    "#Prepare stocks_lists with data to work on\n",
    "stocks_lists = []\n",
    "for stock in tech_list:\n",
    "    stock_web_df = tech_dfs[stock]\n",
    "    #calculate rolling mean for 50&200 days\n",
    "    rolling_200_close = stock_web_df['Close'].rolling(window=200, center=False).mean().dropna()\n",
    "    rolling_50_close = stock_web_df['Close'].rolling(window=50, center=False).mean().dropna()\n",
    "    #Calculate the percents of change \n",
    "    pct_change_200 = rolling_200_close.pct_change(periods=len(rolling_200_close)-1)[-1]\n",
    "    pct_change_50 = rolling_50_close.pct_change(periods=len(rolling_50_close)-1)[-1]\n",
    "    #Calculate high&low percents of change mean for 52 weeks\n",
    "    weekly_stock_web_df = stock_web_df.resample('W').mean()\n",
    "    high = weekly_stock_web_df['High'].pct_change(periods=52)[-1]\n",
    "    low = weekly_stock_web_df['Low'].pct_change(periods=52)[-1]\n",
    "\n",
    "    stock_row = [pct_change_200, pct_change_50, low, high]\n",
    "    stocks_lists.append(stock_row)        \n",
    "\n",
    "stocks_df = pd.DataFrame(stocks_lists,columns=['feature50', 'feature200', 'featurelow', 'featurehigh'])\n",
    "print(stocks_lists)"
   ]
  },
  {
   "cell_type": "code",
   "execution_count": 5,
   "metadata": {},
   "outputs": [
    {
     "data": {
      "image/png": "[encoded data removed]",
      "text/plain": [
       "<matplotlib.figure.Figure at 0x24f554e4160>"
      ]
     },
     "metadata": {},
     "output_type": "display_data"
    }
   ],
   "source": [
    "from sklearn.cluster import KMeans\n",
    "import math\n",
    "# Do KMeans \n",
    "kmeans = KMeans(n_clusters=3)\n",
    "kmeans.fit(stocks_df)\n",
    "y_kmeans = kmeans.predict(stocks_df)\n",
    "centers = kmeans.cluster_centers_\n",
    "\n",
    "# conver df to matrix for visualization\n",
    "X = stocks_df.as_matrix(columns=['feature50', 'feature200', 'featurelow', 'featurehigh'])\n",
    "\n",
    "# calculate the error score\n",
    "wssse = kmeans.score(stocks_df)\n",
    "\n",
    "# draw scatter plot for the stocks and centers\n",
    "plt.scatter(X[:, 0], X[:, 1], c=y_kmeans, s=100, cmap='viridis')\n",
    "plt.scatter(centers[:, 0], centers[:, 1], c='red', s=300, alpha=0.5)\n",
    "plt.show()\n"
   ]
  },
  {
   "cell_type": "code",
   "execution_count": 6,
   "metadata": {
    "collapsed": true
   },
   "outputs": [],
   "source": [
    "#Mor zohar - 204433346, Coral Ram - 308345446, Or Basson - 311115596"
   ]
  }
 ],
 "metadata": {
  "kernelspec": {
   "display_name": "Python 3",
   "language": "python",
   "name": "python3"
  },
  "language_info": {
   "codemirror_mode": {
    "name": "ipython",
    "version": 3
   },
   "file_extension": ".py",
   "mimetype": "text/x-python",
   "name": "python",
   "nbconvert_exporter": "python",
   "pygments_lexer": "ipython3",
   "version": "3.6.3"
  }
 },
 "nbformat": 4,
 "nbformat_minor": 2
}
